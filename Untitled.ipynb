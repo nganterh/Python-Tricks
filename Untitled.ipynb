{
 "cells": [
  {
   "cell_type": "markdown",
   "id": "signal-running",
   "metadata": {},
   "source": [
    "<h1 align=\"center\">Python Cookbook for Beginers</h1>"
   ]
  },
  {
   "cell_type": "markdown",
   "id": "corresponding-white",
   "metadata": {},
   "source": [
    "If you are having problems installing libraries in your computer, it could be because of restrictions put in place by your machine, company or ISP. Unless you think your knowledge allows you to solve your specific problem, we are going to work with the following example and instructions below:\n",
    "\n",
    "> ERROR: Could not install packages due to an OSError: HTTPSConnectionPool(host='**files.pythonhosted.org**', port=443): Max retries exceeded with url: /packages/90/58/4535d4f9cb8bdd8c7a6fea4a1cb09380caadf7b477b059b7cbeb162378f2/**pandas**-1.2.3-cp38-cp38-win_amd64.whl (Caused by SSLError(SSLCertVerificationError(1, '[SSL: CERTIFICATE_VERIFY_FAILED] certificate verify failed: unable to get local issuer certificate (_ssl.c:1125)')))\n",
    "\n",
    "1. Open your Powershell Promt in Anaconda\n",
    "\n",
    "2. Set you system to trust the bold webpage above, by running: `pip install --trusted-host files.pythonhosted.org pandas`\n",
    " - Your problem should be solved\n",
    " - If not, follow to point 3\n",
    "\n",
    "\n",
    "3. Ok, we assume your problem persists, let's try a WeelHouse solution. First write your *requirements.txt*\n",
    "\n",
    "4. Once written, run `pip download -r <requirements file>` in a computer which doesn't show any problems with *pip*\n",
    "\n",
    "5. Load the generated file to a USB and connect it to your computer\n",
    "\n",
    "6. It's likely you'll have to cut the *requirements.txt* file from your *Requirements* folder and paste it into your directory\n",
    "\n",
    "7. Finally run `pip install -r <requirements file> --find-links <path to the library>`\n",
    "\n",
    "To aid in your process, we added some code to run under these instructions. If your problem persists, please put your computer on flight-mode."
   ]
  },
  {
   "cell_type": "code",
   "execution_count": 4,
   "id": "south-influence",
   "metadata": {},
   "outputs": [
    {
     "name": "stdout",
     "output_type": "stream",
     "text": [
      "Step 1: Copy and run \"pip download -r requirements.txt\" on your Powershell Prompt \n",
      "Step 2: Copy and run \"pip install --find-links=C:\\Users\\nicol\\Proyectos\\GitHub\\Python-Tricks\\Requirements -r C:\\Users\\nicol\\Proyectos\\GitHub\\Python-Tricks\\requirements.txt\"\n"
     ]
    }
   ],
   "source": [
    "import os\n",
    "\n",
    "print(f'Step 1: Copy and run \"pip download -r requirements.txt\" on your Powershell Prompt', '\\n'\n",
    "      f'Step 2: Copy and run \"pip install --find-links={os.getcwd()}\\\\Requirements -r {os.getcwd()}\\\\requirements.txt\"')"
   ]
  }
 ],
 "metadata": {
  "kernelspec": {
   "display_name": "Python 3",
   "language": "python",
   "name": "python3"
  },
  "language_info": {
   "codemirror_mode": {
    "name": "ipython",
    "version": 3
   },
   "file_extension": ".py",
   "mimetype": "text/x-python",
   "name": "python",
   "nbconvert_exporter": "python",
   "pygments_lexer": "ipython3",
   "version": "3.8.5"
  }
 },
 "nbformat": 4,
 "nbformat_minor": 5
}
