{
 "cells": [
  {
   "cell_type": "markdown",
   "id": "7fe2b719",
   "metadata": {},
   "source": [
    "<h1 align=\"center\">Python Cookbook for Beginers</h1>"
   ]
  },
  {
   "cell_type": "markdown",
   "id": "b23293b9",
   "metadata": {},
   "source": [
    "If you are having problems installing libraries in your computer, it could be because of restrictions put in place by your machine, company or ISP. Unless you think your knowledge allows you to solve your specific problem, we are going to work with the following example and instructions below:\n",
    "\n",
    "> ERROR: Could not install packages due to an OSError: HTTPSConnectionPool(host='**files.pythonhosted.org**', port=443): Max retries exceeded with url: /packages/90/58/4535d4f9cb8bdd8c7a6fea4a1cb09380caadf7b477b059b7cbeb162378f2/**pandas**-1.2.3-cp38-cp38-win_amd64.whl (Caused by SSLError(SSLCertVerificationError(1, '[SSL: CERTIFICATE_VERIFY_FAILED] certificate verify failed: unable to get local issuer certificate (_ssl.c:1125)')))\n",
    "\n",
    "1. Open your Powershell Promt in Anaconda\n",
    "\n",
    "2. Set you system to trust the bold webpage above, by running: `pip install --trusted-host files.pythonhosted.org pandas`\n",
    " - Your problem should be solved\n",
    " - If not, follow to point 3\n",
    "\n",
    "\n",
    "3. Ok, we assume your problem persists, let's try a WeelHouse solution. First write your *requirements.txt*\n",
    "\n",
    "4. Once written, run `pip download -r <requirements file>` in a computer which doesn't show any problems with *pip*\n",
    "\n",
    "5. Load the generated file to a USB and connect it to your computer\n",
    "\n",
    "6. It's likely you'll have to cut the *requirements.txt* file from your *Requirements* folder and paste it into your directory\n",
    "\n",
    "7. Finally run `pip install -r <requirements file> --find-links <path to the library>`\n",
    "\n",
    "To aid in your process, we added some code to run under these instructions. If your problem persists, please put your computer on flight-mode."
   ]
  },
  {
   "cell_type": "code",
   "execution_count": 12,
   "id": "e913bf57",
   "metadata": {},
   "outputs": [
    {
     "name": "stdout",
     "output_type": "stream",
     "text": [
      "\n",
      " Step 0: Create a folder named \"Requirements\" in C:\\Users\\nicol\\Proyectos\\GitHub\\Python-Tricks \n",
      "\n",
      " Step 1: Copy and run \"cd C:\\Users\\nicol\\Proyectos\\GitHub\\Python-Tricks\\Requirements\" \n",
      "\n",
      " Step 2: Copy and run \"pip download -r requirements.txt\" on your Powershell Prompt\" \n",
      "\n",
      " Step 3: Copy and run \"pip install --find-links=C:\\Users\\nicol\\Proyectos\\GitHub\\Python-Tricks\\Requirements -r C:\\Users\\nicol\\Proyectos\\GitHub\\Python-Tricks\\requirements.txt\"\n"
     ]
    }
   ],
   "source": [
    "import os\n",
    "\n",
    "print(f'\\n Step 0: Create a folder named \"Requirements\" in {os.getcwd()}', '\\n\\n',\n",
    "      f'Step 1: Copy and run \"cd {os.getcwd()}\\\\Requirements\"', '\\n\\n',\n",
    "      f'Step 2: Copy and run \"pip download -r requirements.txt\" on your Powershell Prompt\"', '\\n\\n',\n",
    "      f'Step 3: Copy and run \"pip install --find-links={os.getcwd()}\\\\Requirements -r {os.getcwd()}\\\\requirements.txt\"')"
   ]
  },
  {
   "cell_type": "markdown",
   "id": "aae2823e-e483-4de9-abd7-fc449a131353",
   "metadata": {},
   "source": [
    "<h2 align='center'>Código Donna</h2>"
   ]
  },
  {
   "cell_type": "code",
   "execution_count": 2,
   "id": "243e4bec-f337-4c5f-b941-1c4255d7d738",
   "metadata": {},
   "outputs": [
    {
     "data": {
      "text/plain": [
       "[('0', 'A', 'B', 'C'), ('0', 'D', 'E'), ('0', 'D', 'F')]"
      ]
     },
     "execution_count": 2,
     "metadata": {},
     "output_type": "execute_result"
    }
   ],
   "source": [
    "# Thanks to: https://stackoverflow.com/questions/11570499/generate-all-leaf-to-root-paths-in-a-dictionary-tree-in-python\n",
    "def paths(tree, cur=()):\n",
    "    if not tree:\n",
    "        yield cur\n",
    "    else:\n",
    "        for n, s in tree.items():\n",
    "            for path in paths(s, cur+(n,)):\n",
    "                yield path\n",
    "                \n",
    "list(paths(tree))"
   ]
  },
  {
   "cell_type": "code",
   "execution_count": 31,
   "id": "678e8aa9-adda-42cc-8436-ae14656b80cb",
   "metadata": {},
   "outputs": [
    {
     "name": "stdout",
     "output_type": "stream",
     "text": [
      "{'0': {'A': {'B': {'C': {}}}, 'D': {'E': {}, 'F': {}}}}\n"
     ]
    }
   ],
   "source": [
    "tree = {'0': {'A': {'B': {'C': {}}},\n",
    "              'D': {'E': {},\n",
    "                    'F': {}}}}\n",
    "\n",
    "print(tree)"
   ]
  },
  {
   "cell_type": "code",
   "execution_count": 32,
   "id": "2499082a-f459-4fd5-a282-9814866d7218",
   "metadata": {},
   "outputs": [
    {
     "data": {
      "text/plain": [
       "{'0': {'A': {'B': {'C': {}}}, 'D': {'E': {}, 'F': {}}}}"
      ]
     },
     "execution_count": 32,
     "metadata": {},
     "output_type": "execute_result"
    }
   ],
   "source": [
    "dict02 = tree\n",
    "dict02"
   ]
  },
  {
   "cell_type": "code",
   "execution_count": 33,
   "id": "b999bcaf-6278-4a5f-9d38-b5ae10449d84",
   "metadata": {},
   "outputs": [
    {
     "data": {
      "text/plain": [
       "'potito'"
      ]
     },
     "execution_count": 33,
     "metadata": {},
     "output_type": "execute_result"
    }
   ],
   "source": [
    "for level in ['0', 'A', 'B', 'C']:\n",
    "    if level == 'C':\n",
    "        #dsadasjdasd\n",
    "        dict02[level] = 'potito'\n",
    "        \n",
    "    dict02 = dict02[level]\n",
    "\n",
    "dict02"
   ]
  },
  {
   "cell_type": "code",
   "execution_count": 34,
   "id": "c7212338-29ba-49a2-a554-2427f7bd9eee",
   "metadata": {},
   "outputs": [
    {
     "data": {
      "text/plain": [
       "{'0': {'A': {'B': {'C': 'potito'}}, 'D': {'E': {}, 'F': {}}}}"
      ]
     },
     "execution_count": 34,
     "metadata": {},
     "output_type": "execute_result"
    }
   ],
   "source": [
    "tree"
   ]
  },
  {
   "cell_type": "code",
   "execution_count": null,
   "id": "d88d2253-d869-465f-9c80-8b5fd1d48dd7",
   "metadata": {},
   "outputs": [],
   "source": []
  }
 ],
 "metadata": {
  "kernelspec": {
   "display_name": "Python 3",
   "language": "python",
   "name": "python3"
  },
  "language_info": {
   "codemirror_mode": {
    "name": "ipython",
    "version": 3
   },
   "file_extension": ".py",
   "mimetype": "text/x-python",
   "name": "python",
   "nbconvert_exporter": "python",
   "pygments_lexer": "ipython3",
   "version": "3.8.10"
  }
 },
 "nbformat": 4,
 "nbformat_minor": 5
}
